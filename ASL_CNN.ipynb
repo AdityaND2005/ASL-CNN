{
  "cells": [
    {
      "cell_type": "code",
      "execution_count": 1,
      "metadata": {
        "colab": {
          "base_uri": "https://localhost:8080/"
        },
        "id": "9kMRTHEV2AFm",
        "outputId": "94911eb1-e5e5-45b8-a192-df70c00b4948"
      },
      "outputs": [
        {
          "output_type": "execute_result",
          "data": {
            "text/plain": [
              "True"
            ]
          },
          "metadata": {},
          "execution_count": 1
        }
      ],
      "source": [
        "import torch.nn as nn\n",
        "import pandas as pd\n",
        "import torch\n",
        "from torch.optim import Adam\n",
        "from torch.utils.data import Dataset, DataLoader\n",
        "\n",
        "device = \"cuda\"\n",
        "torch.cuda.is_available()"
      ]
    },
    {
      "cell_type": "markdown",
      "metadata": {
        "id": "xEGukATl3ZZN"
      },
      "source": [
        "## Loading and Preparing the Data"
      ]
    },
    {
      "cell_type": "code",
      "execution_count": 4,
      "metadata": {
        "id": "XMMgEMcc2Ehg"
      },
      "outputs": [],
      "source": [
        "train_df = pd.read_csv(\"sign_mnist_train.csv\")\n",
        "valid_df = pd.read_csv(\"sign_mnist_valid.csv\")"
      ]
    },
    {
      "cell_type": "code",
      "execution_count": 5,
      "metadata": {
        "colab": {
          "base_uri": "https://localhost:8080/"
        },
        "id": "Zdz2Nk2A0jdf",
        "outputId": "e544e4e2-c1dd-4478-8f09-98fa717131f3"
      },
      "outputs": [
        {
          "output_type": "execute_result",
          "data": {
            "text/plain": [
              "array([[107, 118, 127, ..., 204, 203, 202],\n",
              "       [155, 157, 156, ..., 103, 135, 149],\n",
              "       [187, 188, 188, ..., 195, 194, 195],\n",
              "       [211, 211, 212, ..., 222, 229, 163],\n",
              "       [164, 167, 170, ..., 163, 164, 179]])"
            ]
          },
          "metadata": {},
          "execution_count": 5
        }
      ],
      "source": [
        "sample_df = train_df.head().copy()\n",
        "sample_df.pop('label')\n",
        "sample_x = sample_df.values\n",
        "sample_x"
      ]
    },
    {
      "cell_type": "code",
      "execution_count": 6,
      "metadata": {
        "colab": {
          "base_uri": "https://localhost:8080/"
        },
        "id": "9Tp6nvuS0jdg",
        "outputId": "2e5b5ffd-23cb-423b-d81e-34c6ba824087"
      },
      "outputs": [
        {
          "output_type": "execute_result",
          "data": {
            "text/plain": [
              "(5, 784)"
            ]
          },
          "metadata": {},
          "execution_count": 6
        }
      ],
      "source": [
        "sample_x.shape"
      ]
    },
    {
      "cell_type": "code",
      "execution_count": 7,
      "metadata": {
        "colab": {
          "base_uri": "https://localhost:8080/"
        },
        "id": "rnm_uftJ0jdh",
        "outputId": "8cc60020-193f-4c2e-b125-7958f65a0dc4"
      },
      "outputs": [
        {
          "output_type": "execute_result",
          "data": {
            "text/plain": [
              "(5, 1, 28, 28)"
            ]
          },
          "metadata": {},
          "execution_count": 7
        }
      ],
      "source": [
        "IMG_HEIGHT = 28\n",
        "IMG_WIDTH = 28\n",
        "IMG_CHS = 1\n",
        "\n",
        "sample_x = sample_x.reshape(-1, IMG_CHS, IMG_HEIGHT, IMG_WIDTH)\n",
        "sample_x.shape"
      ]
    },
    {
      "cell_type": "markdown",
      "metadata": {
        "id": "G8h7EnIH0jdh"
      },
      "source": [
        "###  Create a Dataset"
      ]
    },
    {
      "cell_type": "code",
      "execution_count": 8,
      "metadata": {
        "jupyter": {
          "source_hidden": true
        },
        "id": "J7aTBNl90jdi"
      },
      "outputs": [],
      "source": [
        "class MyDataset(Dataset):\n",
        "    def __init__(self, base_df):\n",
        "        x_df = base_df.copy()\n",
        "        y_df = x_df.pop('label')\n",
        "        x_df = x_df.values / 255  # Normalize values from 0 to 1\n",
        "        x_df = x_df.reshape(-1, IMG_CHS, IMG_WIDTH, IMG_HEIGHT)\n",
        "        self.xs = torch.tensor(x_df).float().to(device)\n",
        "        self.ys = torch.tensor(y_df).to(device)\n",
        "\n",
        "    def __getitem__(self, idx):\n",
        "        x = self.xs[idx]\n",
        "        y = self.ys[idx]\n",
        "        return x, y\n",
        "\n",
        "    def __len__(self):\n",
        "        return len(self.xs)"
      ]
    },
    {
      "cell_type": "markdown",
      "metadata": {
        "id": "g0FPPoxW0jdi"
      },
      "source": [
        "### Create a DataLoader"
      ]
    },
    {
      "cell_type": "code",
      "source": [
        "BATCH_SIZE = 32\n",
        "\n",
        "train_data = MyDataset(train_df)\n",
        "train_loader = DataLoader(train_data, batch_size=BATCH_SIZE,shuffle=True)\n",
        "train_N = len(train_loader.dataset)\n",
        "\n",
        "valid_data = MyDataset(valid_df)\n",
        "valid_loader = DataLoader(valid_data, batch_size=BATCH_SIZE)\n",
        "valid_N = len(valid_loader.dataset)"
      ],
      "metadata": {
        "id": "M6SX95PJ19tx"
      },
      "execution_count": 9,
      "outputs": []
    },
    {
      "cell_type": "code",
      "execution_count": 10,
      "metadata": {
        "colab": {
          "base_uri": "https://localhost:8080/"
        },
        "id": "Z4xylt03dz1W",
        "outputId": "bd5a8d5b-8b11-4cd2-80e5-523d078572e7"
      },
      "outputs": [
        {
          "output_type": "execute_result",
          "data": {
            "text/plain": [
              "[tensor([[[[0.7765, 0.7765, 0.7804,  ..., 0.7216, 0.7137, 0.7020],\n",
              "           [0.7843, 0.7843, 0.7843,  ..., 0.7255, 0.7176, 0.7098],\n",
              "           [0.7882, 0.7882, 0.7882,  ..., 0.7294, 0.7216, 0.7176],\n",
              "           ...,\n",
              "           [0.8745, 0.8784, 0.8824,  ..., 0.8275, 0.8196, 0.8118],\n",
              "           [0.8745, 0.8824, 0.8863,  ..., 0.8314, 0.8235, 0.8157],\n",
              "           [0.8745, 0.8824, 0.8863,  ..., 0.8275, 0.8196, 0.8157]]],\n",
              " \n",
              " \n",
              "         [[[0.2824, 0.2980, 0.3137,  ..., 0.6980, 0.6941, 0.6824],\n",
              "           [0.2863, 0.2980, 0.3176,  ..., 0.7098, 0.7059, 0.7020],\n",
              "           [0.2863, 0.3059, 0.3216,  ..., 0.7255, 0.7255, 0.7216],\n",
              "           ...,\n",
              "           [0.4235, 0.4275, 0.4353,  ..., 0.0510, 0.1569, 0.1216],\n",
              "           [0.4275, 0.4314, 0.4314,  ..., 0.0235, 0.1059, 0.1569],\n",
              "           [0.4235, 0.4235, 0.4275,  ..., 0.0627, 0.0549, 0.1216]]],\n",
              " \n",
              " \n",
              "         [[[0.6078, 0.6196, 0.6314,  ..., 0.6980, 0.7020, 0.6941],\n",
              "           [0.6118, 0.6275, 0.6431,  ..., 0.7020, 0.6980, 0.6980],\n",
              "           [0.6157, 0.6275, 0.6431,  ..., 0.7137, 0.7137, 0.7020],\n",
              "           ...,\n",
              "           [0.6314, 0.6431, 0.7255,  ..., 0.8039, 0.7608, 0.7765],\n",
              "           [0.6196, 0.6392, 0.7176,  ..., 0.7765, 0.7804, 0.7412],\n",
              "           [0.5961, 0.6392, 0.7451,  ..., 0.7255, 0.7529, 0.7804]]],\n",
              " \n",
              " \n",
              "         ...,\n",
              " \n",
              " \n",
              "         [[[0.3137, 0.3255, 0.3333,  ..., 0.6314, 0.6353, 0.6314],\n",
              "           [0.3176, 0.3216, 0.3294,  ..., 0.6431, 0.6431, 0.6353],\n",
              "           [0.3176, 0.3216, 0.3333,  ..., 0.6471, 0.6471, 0.6431],\n",
              "           ...,\n",
              "           [0.4196, 0.4196, 0.4157,  ..., 0.4000, 0.3961, 0.3922],\n",
              "           [0.4392, 0.4392, 0.4275,  ..., 0.4078, 0.4039, 0.3961],\n",
              "           [0.4314, 0.4275, 0.4275,  ..., 0.4039, 0.4000, 0.3961]]],\n",
              " \n",
              " \n",
              "         [[[0.4157, 0.4118, 0.4275,  ..., 0.8078, 0.8196, 0.8235],\n",
              "           [0.4157, 0.4118, 0.4196,  ..., 0.8118, 0.8196, 0.8235],\n",
              "           [0.4196, 0.4196, 0.4196,  ..., 0.8118, 0.8275, 0.8275],\n",
              "           ...,\n",
              "           [0.4902, 0.4941, 0.4902,  ..., 0.6314, 0.7529, 0.6667],\n",
              "           [0.4824, 0.4863, 0.4863,  ..., 0.5569, 0.7961, 0.7098],\n",
              "           [0.4863, 0.4902, 0.4824,  ..., 0.5059, 0.7725, 0.7137]]],\n",
              " \n",
              " \n",
              "         [[[0.6824, 0.6824, 0.6863,  ..., 0.0863, 0.0000, 0.0000],\n",
              "           [0.7020, 0.7020, 0.7020,  ..., 0.0196, 0.0510, 0.0000],\n",
              "           [0.7137, 0.7176, 0.7137,  ..., 0.0039, 0.0000, 0.0000],\n",
              "           ...,\n",
              "           [0.3608, 0.3647, 0.3725,  ..., 0.0000, 0.0039, 0.0000],\n",
              "           [0.3569, 0.3608, 0.3686,  ..., 0.0000, 0.0078, 0.0000],\n",
              "           [0.3529, 0.3569, 0.3608,  ..., 0.0000, 0.0000, 0.0118]]]],\n",
              "        device='cuda:0'),\n",
              " tensor([17, 19, 18,  0,  1, 18, 10,  4, 21, 20, 20,  5,  7,  5,  3,  9, 13, 23,\n",
              "          8, 22,  4, 15, 12, 19, 13, 14, 21,  5, 20,  9, 14, 10],\n",
              "        device='cuda:0')]"
            ]
          },
          "metadata": {},
          "execution_count": 10
        }
      ],
      "source": [
        "batch = next(iter(train_loader))\n",
        "batch"
      ]
    },
    {
      "cell_type": "code",
      "execution_count": 11,
      "metadata": {
        "colab": {
          "base_uri": "https://localhost:8080/"
        },
        "id": "vannMV7sd6R_",
        "outputId": "ee9be13f-14b0-47bd-c275-c819972e2236"
      },
      "outputs": [
        {
          "output_type": "execute_result",
          "data": {
            "text/plain": [
              "torch.Size([32, 1, 28, 28])"
            ]
          },
          "metadata": {},
          "execution_count": 11
        }
      ],
      "source": [
        "batch[0].shape"
      ]
    },
    {
      "cell_type": "code",
      "execution_count": 12,
      "metadata": {
        "colab": {
          "base_uri": "https://localhost:8080/"
        },
        "id": "YHJgP3A7d9lu",
        "outputId": "b3551a30-2cec-4e66-c907-68aef7406ee4"
      },
      "outputs": [
        {
          "output_type": "execute_result",
          "data": {
            "text/plain": [
              "torch.Size([32])"
            ]
          },
          "metadata": {},
          "execution_count": 12
        }
      ],
      "source": [
        "batch[1].shape"
      ]
    },
    {
      "cell_type": "markdown",
      "metadata": {
        "id": "6biSPXKJ3ZZP"
      },
      "source": [
        "## Creating a Convolutional Model"
      ]
    },
    {
      "cell_type": "code",
      "execution_count": 13,
      "metadata": {
        "id": "p_bvGpMId_6q"
      },
      "outputs": [],
      "source": [
        "n_classes = 24\n",
        "kernel_size = 3\n",
        "flattened_img_size = 75 * 3 * 3\n",
        "\n",
        "model = nn.Sequential(\n",
        "    # First convolution\n",
        "    nn.Conv2d(IMG_CHS, 25, kernel_size, stride=1, padding=1),  # 25 x 28 x 28\n",
        "    nn.BatchNorm2d(25),\n",
        "    nn.ReLU(),\n",
        "    nn.MaxPool2d(2, stride=2),  # 25 x 14 x 14\n",
        "    # Second convolution\n",
        "    nn.Conv2d(25, 50, kernel_size, stride=1, padding=1),  # 50 x 14 x 14\n",
        "    nn.BatchNorm2d(50),\n",
        "    nn.ReLU(),\n",
        "    nn.Dropout(.2),\n",
        "    nn.MaxPool2d(2, stride=2),  # 50 x 7 x 7\n",
        "    # Third convolution\n",
        "    nn.Conv2d(50, 75, kernel_size, stride=1, padding=1),  # 75 x 7 x 7\n",
        "    nn.BatchNorm2d(75),\n",
        "    nn.ReLU(),\n",
        "    nn.MaxPool2d(2, stride=2),  # 75 x 3 x 3\n",
        "    # Flatten to Dense\n",
        "    nn.Flatten(),\n",
        "    nn.Linear(flattened_img_size, 512),\n",
        "    nn.Dropout(.3),\n",
        "    nn.ReLU(),\n",
        "    nn.Linear(512, n_classes)\n",
        ")"
      ]
    },
    {
      "cell_type": "code",
      "execution_count": 14,
      "metadata": {
        "colab": {
          "base_uri": "https://localhost:8080/"
        },
        "id": "2IAS92gZwcP3",
        "outputId": "8813424e-f878-42e2-91f1-6b4adcca39fe"
      },
      "outputs": [
        {
          "output_type": "execute_result",
          "data": {
            "text/plain": [
              "OptimizedModule(\n",
              "  (_orig_mod): Sequential(\n",
              "    (0): Conv2d(1, 25, kernel_size=(3, 3), stride=(1, 1), padding=(1, 1))\n",
              "    (1): BatchNorm2d(25, eps=1e-05, momentum=0.1, affine=True, track_running_stats=True)\n",
              "    (2): ReLU()\n",
              "    (3): MaxPool2d(kernel_size=2, stride=2, padding=0, dilation=1, ceil_mode=False)\n",
              "    (4): Conv2d(25, 50, kernel_size=(3, 3), stride=(1, 1), padding=(1, 1))\n",
              "    (5): BatchNorm2d(50, eps=1e-05, momentum=0.1, affine=True, track_running_stats=True)\n",
              "    (6): ReLU()\n",
              "    (7): Dropout(p=0.2, inplace=False)\n",
              "    (8): MaxPool2d(kernel_size=2, stride=2, padding=0, dilation=1, ceil_mode=False)\n",
              "    (9): Conv2d(50, 75, kernel_size=(3, 3), stride=(1, 1), padding=(1, 1))\n",
              "    (10): BatchNorm2d(75, eps=1e-05, momentum=0.1, affine=True, track_running_stats=True)\n",
              "    (11): ReLU()\n",
              "    (12): MaxPool2d(kernel_size=2, stride=2, padding=0, dilation=1, ceil_mode=False)\n",
              "    (13): Flatten(start_dim=1, end_dim=-1)\n",
              "    (14): Linear(in_features=675, out_features=512, bias=True)\n",
              "    (15): Dropout(p=0.3, inplace=False)\n",
              "    (16): ReLU()\n",
              "    (17): Linear(in_features=512, out_features=24, bias=True)\n",
              "  )\n",
              ")"
            ]
          },
          "metadata": {},
          "execution_count": 14
        }
      ],
      "source": [
        "model = torch.compile(model.to(device))\n",
        "model"
      ]
    },
    {
      "cell_type": "code",
      "execution_count": 16,
      "metadata": {
        "id": "-BUIQ5COwsri"
      },
      "outputs": [],
      "source": [
        "loss_function = nn.CrossEntropyLoss()\n",
        "optimizer = Adam(model.parameters())"
      ]
    },
    {
      "cell_type": "code",
      "execution_count": 17,
      "metadata": {
        "id": "SniWnvc5NSkA"
      },
      "outputs": [],
      "source": [
        "def get_batch_accuracy(output, y, N):\n",
        "    pred = output.argmax(dim=1, keepdim=True)\n",
        "    correct = pred.eq(y.view_as(pred)).sum().item()\n",
        "    return correct / N"
      ]
    },
    {
      "cell_type": "markdown",
      "metadata": {
        "id": "OBgbUNDH3ZZR"
      },
      "source": [
        "### Training the Model"
      ]
    },
    {
      "cell_type": "code",
      "execution_count": 18,
      "metadata": {
        "jupyter": {
          "source_hidden": true
        },
        "id": "tQnOtU_20jdn"
      },
      "outputs": [],
      "source": [
        "def validate():\n",
        "    loss = 0\n",
        "    accuracy = 0\n",
        "\n",
        "    model.eval()\n",
        "    with torch.no_grad():\n",
        "        for x, y in valid_loader:\n",
        "            output = model(x)\n",
        "\n",
        "            loss += loss_function(output, y).item()\n",
        "            accuracy += get_batch_accuracy(output, y, valid_N)\n",
        "    print('Valid - Loss: {:.4f} Accuracy: {:.4f}'.format(loss, accuracy))"
      ]
    },
    {
      "cell_type": "code",
      "execution_count": 19,
      "metadata": {
        "jupyter": {
          "source_hidden": true
        },
        "id": "oIhRgbcx0jdn"
      },
      "outputs": [],
      "source": [
        "def train():\n",
        "    loss = 0\n",
        "    accuracy = 0\n",
        "\n",
        "    model.train()\n",
        "    for x, y in train_loader:\n",
        "        output = model(x)\n",
        "        optimizer.zero_grad()\n",
        "        batch_loss = loss_function(output, y)\n",
        "        batch_loss.backward()\n",
        "        optimizer.step()\n",
        "\n",
        "        loss += batch_loss.item()\n",
        "        accuracy += get_batch_accuracy(output, y, train_N)\n",
        "    print('Train - Loss: {:.4f} Accuracy: {:.4f}'.format(loss, accuracy))"
      ]
    },
    {
      "cell_type": "code",
      "execution_count": 20,
      "metadata": {
        "colab": {
          "base_uri": "https://localhost:8080/"
        },
        "id": "qOYsrlmUwyyI",
        "outputId": "7fd1e8a1-4f4f-4543-9fb1-e5c5277f9264"
      },
      "outputs": [
        {
          "output_type": "stream",
          "name": "stdout",
          "text": [
            "Epoch: 0\n",
            "Train - Loss: 280.8173 Accuracy: 0.9020\n",
            "Valid - Loss: 39.9490 Accuracy: 0.9453\n",
            "Epoch: 1\n",
            "Train - Loss: 12.9207 Accuracy: 0.9966\n",
            "Valid - Loss: 47.1475 Accuracy: 0.9354\n",
            "Epoch: 2\n",
            "Train - Loss: 13.8925 Accuracy: 0.9954\n",
            "Valid - Loss: 15.5456 Accuracy: 0.9760\n",
            "Epoch: 3\n",
            "Train - Loss: 12.0218 Accuracy: 0.9960\n",
            "Valid - Loss: 83.3515 Accuracy: 0.8871\n",
            "Epoch: 4\n",
            "Train - Loss: 6.0114 Accuracy: 0.9981\n",
            "Valid - Loss: 14.4824 Accuracy: 0.9750\n",
            "Epoch: 5\n",
            "Train - Loss: 3.2415 Accuracy: 0.9993\n",
            "Valid - Loss: 48.6344 Accuracy: 0.9387\n",
            "Epoch: 6\n",
            "Train - Loss: 14.5428 Accuracy: 0.9950\n",
            "Valid - Loss: 28.6558 Accuracy: 0.9631\n",
            "Epoch: 7\n",
            "Train - Loss: 1.8457 Accuracy: 0.9993\n",
            "Valid - Loss: 17.2207 Accuracy: 0.9739\n",
            "Epoch: 8\n",
            "Train - Loss: 8.4906 Accuracy: 0.9969\n",
            "Valid - Loss: 24.4311 Accuracy: 0.9723\n",
            "Epoch: 9\n",
            "Train - Loss: 7.4465 Accuracy: 0.9977\n",
            "Valid - Loss: 24.5717 Accuracy: 0.9674\n",
            "Epoch: 10\n",
            "Train - Loss: 3.6116 Accuracy: 0.9990\n",
            "Valid - Loss: 16.7506 Accuracy: 0.9822\n",
            "Epoch: 11\n",
            "Train - Loss: 8.4668 Accuracy: 0.9972\n",
            "Valid - Loss: 26.1933 Accuracy: 0.9697\n",
            "Epoch: 12\n",
            "Train - Loss: 4.3963 Accuracy: 0.9984\n",
            "Valid - Loss: 26.6131 Accuracy: 0.9755\n",
            "Epoch: 13\n",
            "Train - Loss: 0.2798 Accuracy: 1.0000\n",
            "Valid - Loss: 21.1189 Accuracy: 0.9844\n",
            "Epoch: 14\n",
            "Train - Loss: 0.0445 Accuracy: 1.0000\n",
            "Valid - Loss: 23.6444 Accuracy: 0.9781\n",
            "Epoch: 15\n",
            "Train - Loss: 9.7137 Accuracy: 0.9971\n",
            "Valid - Loss: 40.9689 Accuracy: 0.9487\n",
            "Epoch: 16\n",
            "Train - Loss: 2.3303 Accuracy: 0.9991\n",
            "Valid - Loss: 24.6073 Accuracy: 0.9700\n",
            "Epoch: 17\n",
            "Train - Loss: 5.2506 Accuracy: 0.9984\n",
            "Valid - Loss: 24.1345 Accuracy: 0.9735\n",
            "Epoch: 18\n",
            "Train - Loss: 5.4019 Accuracy: 0.9988\n",
            "Valid - Loss: 32.9613 Accuracy: 0.9700\n",
            "Epoch: 19\n",
            "Train - Loss: 0.1996 Accuracy: 1.0000\n",
            "Valid - Loss: 32.4794 Accuracy: 0.9710\n"
          ]
        }
      ],
      "source": [
        "epochs = 20\n",
        "\n",
        "for epoch in range(epochs):\n",
        "    print('Epoch: {}'.format(epoch))\n",
        "    train()\n",
        "    validate()"
      ]
    }
  ],
  "metadata": {
    "colab": {
      "provenance": [],
      "gpuType": "T4"
    },
    "kernelspec": {
      "display_name": "Python 3",
      "name": "python3"
    },
    "language_info": {
      "codemirror_mode": {
        "name": "ipython",
        "version": 3
      },
      "file_extension": ".py",
      "mimetype": "text/x-python",
      "name": "python",
      "nbconvert_exporter": "python",
      "pygments_lexer": "ipython3",
      "version": "3.10.12"
    },
    "accelerator": "GPU"
  },
  "nbformat": 4,
  "nbformat_minor": 0
}